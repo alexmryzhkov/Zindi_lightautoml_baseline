{
 "cells": [
  {
   "cell_type": "markdown",
   "metadata": {},
   "source": [
    "# Step 0.0. Install LightAutoML "
   ]
  },
  {
   "cell_type": "code",
   "execution_count": 1,
   "metadata": {},
   "outputs": [],
   "source": [
    "# !pip install -U lightautoml"
   ]
  },
  {
   "cell_type": "markdown",
   "metadata": {},
   "source": [
    "# Step 0.1. Import necessary libraries "
   ]
  },
  {
   "cell_type": "code",
   "execution_count": 1,
   "metadata": {},
   "outputs": [],
   "source": [
    "# Standard python libraries\n",
    "import os\n",
    "import time\n",
    "\n",
    "# Installed libraries\n",
    "import numpy as np\n",
    "import pandas as pd\n",
    "from sklearn.metrics import roc_auc_score, f1_score\n",
    "from sklearn.model_selection import train_test_split\n",
    "import torch\n",
    "\n",
    "# Imports from our package\n",
    "from lightautoml.automl.presets.tabular_presets import TabularAutoML, TabularUtilizedAutoML\n",
    "from lightautoml.dataset.roles import DatetimeRole\n",
    "from lightautoml.tasks import Task\n",
    "from lightautoml.utils.profiler import Profiler"
   ]
  },
  {
   "cell_type": "markdown",
   "metadata": {},
   "source": [
    "# Step 0.2. Parameters "
   ]
  },
  {
   "cell_type": "code",
   "execution_count": 2,
   "metadata": {},
   "outputs": [],
   "source": [
    "N_THREADS = 24 # threads cnt for LightAutoML models (PLEASE CHANGE IT )\n",
    "N_FOLDS = 5 # folds cnt for AutoML\n",
    "RANDOM_STATE = 42 # fixed random state for various reasons\n",
    "TEST_SIZE = 0.2 # Test size for metric check\n",
    "TIMEOUT = 3600 # Time in seconds for automl run\n",
    "TARGET_NAME = 'target' # Target column name"
   ]
  },
  {
   "cell_type": "markdown",
   "metadata": {},
   "source": [
    "# Step 0.3. Fix torch number of threads and numpy seed "
   ]
  },
  {
   "cell_type": "code",
   "execution_count": 3,
   "metadata": {},
   "outputs": [],
   "source": [
    "np.random.seed(RANDOM_STATE)\n",
    "torch.set_num_threads(N_THREADS)"
   ]
  },
  {
   "cell_type": "markdown",
   "metadata": {},
   "source": [
    "# Step 0.4. Example data load "
   ]
  },
  {
   "cell_type": "code",
   "execution_count": 4,
   "metadata": {},
   "outputs": [
    {
     "name": "stdout",
     "output_type": "stream",
     "text": [
      "CPU times: user 311 ms, sys: 28.3 ms, total: 339 ms\n",
      "Wall time: 27.8 ms\n"
     ]
    },
    {
     "data": {
      "text/html": [
       "<div>\n",
       "<style scoped>\n",
       "    .dataframe tbody tr th:only-of-type {\n",
       "        vertical-align: middle;\n",
       "    }\n",
       "\n",
       "    .dataframe tbody tr th {\n",
       "        vertical-align: top;\n",
       "    }\n",
       "\n",
       "    .dataframe thead th {\n",
       "        text-align: right;\n",
       "    }\n",
       "</style>\n",
       "<table border=\"1\" class=\"dataframe\">\n",
       "  <thead>\n",
       "    <tr style=\"text-align: right;\">\n",
       "      <th></th>\n",
       "      <th>ID</th>\n",
       "      <th>Policy Start Date</th>\n",
       "      <th>Policy End Date</th>\n",
       "      <th>Gender</th>\n",
       "      <th>Age</th>\n",
       "      <th>First Transaction Date</th>\n",
       "      <th>No_Pol</th>\n",
       "      <th>Car_Category</th>\n",
       "      <th>Subject_Car_Colour</th>\n",
       "      <th>Subject_Car_Make</th>\n",
       "      <th>LGA_Name</th>\n",
       "      <th>State</th>\n",
       "      <th>ProductName</th>\n",
       "      <th>target</th>\n",
       "    </tr>\n",
       "  </thead>\n",
       "  <tbody>\n",
       "    <tr>\n",
       "      <th>0</th>\n",
       "      <td>ID_0040R73</td>\n",
       "      <td>2010-05-14</td>\n",
       "      <td>2011-05-13</td>\n",
       "      <td>Male</td>\n",
       "      <td>30</td>\n",
       "      <td>2010-05-14</td>\n",
       "      <td>1</td>\n",
       "      <td>Saloon</td>\n",
       "      <td>Black</td>\n",
       "      <td>TOYOTA</td>\n",
       "      <td>NaN</td>\n",
       "      <td>NaN</td>\n",
       "      <td>Car Classic</td>\n",
       "      <td>0</td>\n",
       "    </tr>\n",
       "    <tr>\n",
       "      <th>1</th>\n",
       "      <td>ID_0046BNK</td>\n",
       "      <td>2010-11-29</td>\n",
       "      <td>2011-11-28</td>\n",
       "      <td>Female</td>\n",
       "      <td>79</td>\n",
       "      <td>2010-11-29</td>\n",
       "      <td>1</td>\n",
       "      <td>JEEP</td>\n",
       "      <td>Grey</td>\n",
       "      <td>TOYOTA</td>\n",
       "      <td>NaN</td>\n",
       "      <td>NaN</td>\n",
       "      <td>Car Classic</td>\n",
       "      <td>1</td>\n",
       "    </tr>\n",
       "    <tr>\n",
       "      <th>2</th>\n",
       "      <td>ID_005QMC3</td>\n",
       "      <td>2010-03-21</td>\n",
       "      <td>2011-03-20</td>\n",
       "      <td>Male</td>\n",
       "      <td>43</td>\n",
       "      <td>2010-03-21</td>\n",
       "      <td>1</td>\n",
       "      <td>Saloon</td>\n",
       "      <td>Red</td>\n",
       "      <td>TOYOTA</td>\n",
       "      <td>NaN</td>\n",
       "      <td>NaN</td>\n",
       "      <td>Car Classic</td>\n",
       "      <td>0</td>\n",
       "    </tr>\n",
       "    <tr>\n",
       "      <th>3</th>\n",
       "      <td>ID_0079OHW</td>\n",
       "      <td>2010-08-21</td>\n",
       "      <td>2011-08-20</td>\n",
       "      <td>Male</td>\n",
       "      <td>2</td>\n",
       "      <td>2010-08-21</td>\n",
       "      <td>1</td>\n",
       "      <td>NaN</td>\n",
       "      <td>NaN</td>\n",
       "      <td>NaN</td>\n",
       "      <td>NaN</td>\n",
       "      <td>NaN</td>\n",
       "      <td>CarSafe</td>\n",
       "      <td>0</td>\n",
       "    </tr>\n",
       "    <tr>\n",
       "      <th>4</th>\n",
       "      <td>ID_00BRP63</td>\n",
       "      <td>2010-08-29</td>\n",
       "      <td>2010-12-31</td>\n",
       "      <td>Entity</td>\n",
       "      <td>20</td>\n",
       "      <td>2010-08-29</td>\n",
       "      <td>3</td>\n",
       "      <td>NaN</td>\n",
       "      <td>NaN</td>\n",
       "      <td>NaN</td>\n",
       "      <td>Lagos</td>\n",
       "      <td>Lagos</td>\n",
       "      <td>Muuve</td>\n",
       "      <td>1</td>\n",
       "    </tr>\n",
       "  </tbody>\n",
       "</table>\n",
       "</div>"
      ],
      "text/plain": [
       "           ID Policy Start Date Policy End Date  Gender  Age  \\\n",
       "0  ID_0040R73        2010-05-14      2011-05-13    Male   30   \n",
       "1  ID_0046BNK        2010-11-29      2011-11-28  Female   79   \n",
       "2  ID_005QMC3        2010-03-21      2011-03-20    Male   43   \n",
       "3  ID_0079OHW        2010-08-21      2011-08-20    Male    2   \n",
       "4  ID_00BRP63        2010-08-29      2010-12-31  Entity   20   \n",
       "\n",
       "  First Transaction Date  No_Pol Car_Category Subject_Car_Colour  \\\n",
       "0             2010-05-14       1       Saloon              Black   \n",
       "1             2010-11-29       1         JEEP               Grey   \n",
       "2             2010-03-21       1       Saloon                Red   \n",
       "3             2010-08-21       1          NaN                NaN   \n",
       "4             2010-08-29       3          NaN                NaN   \n",
       "\n",
       "  Subject_Car_Make LGA_Name  State  ProductName  target  \n",
       "0           TOYOTA      NaN    NaN  Car Classic       0  \n",
       "1           TOYOTA      NaN    NaN  Car Classic       1  \n",
       "2           TOYOTA      NaN    NaN  Car Classic       0  \n",
       "3              NaN      NaN    NaN      CarSafe       0  \n",
       "4              NaN    Lagos  Lagos        Muuve       1  "
      ]
     },
     "execution_count": 4,
     "metadata": {},
     "output_type": "execute_result"
    }
   ],
   "source": [
    "%%time\n",
    "\n",
    "train_data = pd.read_csv('./input/train.csv')\n",
    "train_data.head()"
   ]
  },
  {
   "cell_type": "code",
   "execution_count": 5,
   "metadata": {},
   "outputs": [
    {
     "name": "stdout",
     "output_type": "stream",
     "text": [
      "CPU times: user 4.93 ms, sys: 0 ns, total: 4.93 ms\n",
      "Wall time: 4.51 ms\n"
     ]
    },
    {
     "data": {
      "text/html": [
       "<div>\n",
       "<style scoped>\n",
       "    .dataframe tbody tr th:only-of-type {\n",
       "        vertical-align: middle;\n",
       "    }\n",
       "\n",
       "    .dataframe tbody tr th {\n",
       "        vertical-align: top;\n",
       "    }\n",
       "\n",
       "    .dataframe thead th {\n",
       "        text-align: right;\n",
       "    }\n",
       "</style>\n",
       "<table border=\"1\" class=\"dataframe\">\n",
       "  <thead>\n",
       "    <tr style=\"text-align: right;\">\n",
       "      <th></th>\n",
       "      <th>ID</th>\n",
       "      <th>Policy Start Date</th>\n",
       "      <th>Policy End Date</th>\n",
       "      <th>Gender</th>\n",
       "      <th>Age</th>\n",
       "      <th>First Transaction Date</th>\n",
       "      <th>No_Pol</th>\n",
       "      <th>Car_Category</th>\n",
       "      <th>Subject_Car_Colour</th>\n",
       "      <th>Subject_Car_Make</th>\n",
       "      <th>LGA_Name</th>\n",
       "      <th>State</th>\n",
       "      <th>ProductName</th>\n",
       "    </tr>\n",
       "  </thead>\n",
       "  <tbody>\n",
       "    <tr>\n",
       "      <th>0</th>\n",
       "      <td>ID_01QM0NU</td>\n",
       "      <td>2010-10-23</td>\n",
       "      <td>2011-10-22</td>\n",
       "      <td>Female</td>\n",
       "      <td>46</td>\n",
       "      <td>2010-10-23</td>\n",
       "      <td>1</td>\n",
       "      <td>NaN</td>\n",
       "      <td>NaN</td>\n",
       "      <td>Ford</td>\n",
       "      <td>Abuja Municipal</td>\n",
       "      <td>Abuja-Municipal</td>\n",
       "      <td>Car Classic</td>\n",
       "    </tr>\n",
       "    <tr>\n",
       "      <th>1</th>\n",
       "      <td>ID_024NJLZ</td>\n",
       "      <td>2010-10-14</td>\n",
       "      <td>2011-10-13</td>\n",
       "      <td>Male</td>\n",
       "      <td>32</td>\n",
       "      <td>2010-10-14</td>\n",
       "      <td>1</td>\n",
       "      <td>NaN</td>\n",
       "      <td>NaN</td>\n",
       "      <td>NaN</td>\n",
       "      <td>Kosofe</td>\n",
       "      <td>Benue</td>\n",
       "      <td>Car Classic</td>\n",
       "    </tr>\n",
       "    <tr>\n",
       "      <th>2</th>\n",
       "      <td>ID_02NOVWQ</td>\n",
       "      <td>2010-08-29</td>\n",
       "      <td>2011-08-28</td>\n",
       "      <td>Female</td>\n",
       "      <td>45</td>\n",
       "      <td>2010-08-29</td>\n",
       "      <td>2</td>\n",
       "      <td>Saloon</td>\n",
       "      <td>Black</td>\n",
       "      <td>Honda</td>\n",
       "      <td>Wuse 11</td>\n",
       "      <td>Abuja</td>\n",
       "      <td>Car Classic</td>\n",
       "    </tr>\n",
       "    <tr>\n",
       "      <th>3</th>\n",
       "      <td>ID_02VSP68</td>\n",
       "      <td>2010-06-13</td>\n",
       "      <td>2011-06-12</td>\n",
       "      <td>Female</td>\n",
       "      <td>58</td>\n",
       "      <td>2010-06-13</td>\n",
       "      <td>1</td>\n",
       "      <td>Saloon</td>\n",
       "      <td>NaN</td>\n",
       "      <td>TOYOTA</td>\n",
       "      <td>NaN</td>\n",
       "      <td>NaN</td>\n",
       "      <td>CarSafe</td>\n",
       "    </tr>\n",
       "    <tr>\n",
       "      <th>4</th>\n",
       "      <td>ID_02YB37K</td>\n",
       "      <td>2010-07-01</td>\n",
       "      <td>2011-06-30</td>\n",
       "      <td>NaN</td>\n",
       "      <td>120</td>\n",
       "      <td>2010-07-01</td>\n",
       "      <td>1</td>\n",
       "      <td>Saloon</td>\n",
       "      <td>Red</td>\n",
       "      <td>Hyundai</td>\n",
       "      <td>Victoria Island</td>\n",
       "      <td>Lagos</td>\n",
       "      <td>Car Classic</td>\n",
       "    </tr>\n",
       "  </tbody>\n",
       "</table>\n",
       "</div>"
      ],
      "text/plain": [
       "           ID Policy Start Date Policy End Date  Gender  Age  \\\n",
       "0  ID_01QM0NU        2010-10-23      2011-10-22  Female   46   \n",
       "1  ID_024NJLZ        2010-10-14      2011-10-13    Male   32   \n",
       "2  ID_02NOVWQ        2010-08-29      2011-08-28  Female   45   \n",
       "3  ID_02VSP68        2010-06-13      2011-06-12  Female   58   \n",
       "4  ID_02YB37K        2010-07-01      2011-06-30     NaN  120   \n",
       "\n",
       "  First Transaction Date  No_Pol Car_Category Subject_Car_Colour  \\\n",
       "0             2010-10-23       1          NaN                NaN   \n",
       "1             2010-10-14       1          NaN                NaN   \n",
       "2             2010-08-29       2       Saloon              Black   \n",
       "3             2010-06-13       1       Saloon                NaN   \n",
       "4             2010-07-01       1       Saloon                Red   \n",
       "\n",
       "  Subject_Car_Make         LGA_Name            State  ProductName  \n",
       "0             Ford  Abuja Municipal  Abuja-Municipal  Car Classic  \n",
       "1              NaN           Kosofe            Benue  Car Classic  \n",
       "2            Honda          Wuse 11            Abuja  Car Classic  \n",
       "3           TOYOTA              NaN              NaN      CarSafe  \n",
       "4          Hyundai  Victoria Island            Lagos  Car Classic  "
      ]
     },
     "execution_count": 5,
     "metadata": {},
     "output_type": "execute_result"
    }
   ],
   "source": [
    "%%time\n",
    "\n",
    "test_data = pd.read_csv('./input/test.csv')\n",
    "test_data.head()"
   ]
  },
  {
   "cell_type": "code",
   "execution_count": 6,
   "metadata": {},
   "outputs": [
    {
     "name": "stdout",
     "output_type": "stream",
     "text": [
      "CPU times: user 1.87 ms, sys: 0 ns, total: 1.87 ms\n",
      "Wall time: 1.75 ms\n"
     ]
    },
    {
     "data": {
      "text/html": [
       "<div>\n",
       "<style scoped>\n",
       "    .dataframe tbody tr th:only-of-type {\n",
       "        vertical-align: middle;\n",
       "    }\n",
       "\n",
       "    .dataframe tbody tr th {\n",
       "        vertical-align: top;\n",
       "    }\n",
       "\n",
       "    .dataframe thead th {\n",
       "        text-align: right;\n",
       "    }\n",
       "</style>\n",
       "<table border=\"1\" class=\"dataframe\">\n",
       "  <thead>\n",
       "    <tr style=\"text-align: right;\">\n",
       "      <th></th>\n",
       "      <th>ID</th>\n",
       "      <th>target</th>\n",
       "    </tr>\n",
       "  </thead>\n",
       "  <tbody>\n",
       "    <tr>\n",
       "      <th>0</th>\n",
       "      <td>ID_01QM0NU</td>\n",
       "      <td>0</td>\n",
       "    </tr>\n",
       "    <tr>\n",
       "      <th>1</th>\n",
       "      <td>ID_024NJLZ</td>\n",
       "      <td>0</td>\n",
       "    </tr>\n",
       "    <tr>\n",
       "      <th>2</th>\n",
       "      <td>ID_02NOVWQ</td>\n",
       "      <td>0</td>\n",
       "    </tr>\n",
       "    <tr>\n",
       "      <th>3</th>\n",
       "      <td>ID_02VSP68</td>\n",
       "      <td>0</td>\n",
       "    </tr>\n",
       "    <tr>\n",
       "      <th>4</th>\n",
       "      <td>ID_02YB37K</td>\n",
       "      <td>0</td>\n",
       "    </tr>\n",
       "    <tr>\n",
       "      <th>...</th>\n",
       "      <td>...</td>\n",
       "      <td>...</td>\n",
       "    </tr>\n",
       "    <tr>\n",
       "      <th>1197</th>\n",
       "      <td>ID_ZTTHC5X</td>\n",
       "      <td>0</td>\n",
       "    </tr>\n",
       "    <tr>\n",
       "      <th>1198</th>\n",
       "      <td>ID_ZUJAFUP</td>\n",
       "      <td>0</td>\n",
       "    </tr>\n",
       "    <tr>\n",
       "      <th>1199</th>\n",
       "      <td>ID_ZWHCTUM</td>\n",
       "      <td>0</td>\n",
       "    </tr>\n",
       "    <tr>\n",
       "      <th>1200</th>\n",
       "      <td>ID_ZWQRL8L</td>\n",
       "      <td>0</td>\n",
       "    </tr>\n",
       "    <tr>\n",
       "      <th>1201</th>\n",
       "      <td>ID_ZWZ92GU</td>\n",
       "      <td>0</td>\n",
       "    </tr>\n",
       "  </tbody>\n",
       "</table>\n",
       "<p>1202 rows × 2 columns</p>\n",
       "</div>"
      ],
      "text/plain": [
       "              ID  target\n",
       "0     ID_01QM0NU       0\n",
       "1     ID_024NJLZ       0\n",
       "2     ID_02NOVWQ       0\n",
       "3     ID_02VSP68       0\n",
       "4     ID_02YB37K       0\n",
       "...          ...     ...\n",
       "1197  ID_ZTTHC5X       0\n",
       "1198  ID_ZUJAFUP       0\n",
       "1199  ID_ZWHCTUM       0\n",
       "1200  ID_ZWQRL8L       0\n",
       "1201  ID_ZWZ92GU       0\n",
       "\n",
       "[1202 rows x 2 columns]"
      ]
     },
     "execution_count": 6,
     "metadata": {},
     "output_type": "execute_result"
    }
   ],
   "source": [
    "%%time\n",
    "\n",
    "submission = pd.read_csv('./input/sample_sub.csv')\n",
    "submission"
   ]
  },
  {
   "cell_type": "code",
   "execution_count": 7,
   "metadata": {},
   "outputs": [],
   "source": [
    "# Feats info\n",
    "\n",
    "# ID,Unique ID for the customer\n",
    "# Policy Start Date,Date policy started\n",
    "# Policy End Date,Date policy ended\n",
    "# Gender,Gender of the customer\n",
    "# Age,Age of the customer\n",
    "# ProductName,Name of Insurance policy\n",
    "# First Transaction Date,First date payment was made\n",
    "# No_Pol,Number of policies the customer has\n",
    "# Car_Category,Type of car\n",
    "# Subject_Car_Colour,Car colour\n",
    "# Subject_Car_Make,Car make\n",
    "# LGA_Name,City where policy was purchased\n",
    "# State,State where policy was purchased\n",
    "# No_of_claims_3_mon_period,Wether the customer claimed within a 3 month period. "
   ]
  },
  {
   "cell_type": "markdown",
   "metadata": {},
   "source": [
    "# Step 0.5. Expert features engineering"
   ]
  },
  {
   "cell_type": "code",
   "execution_count": 8,
   "metadata": {},
   "outputs": [
    {
     "name": "stdout",
     "output_type": "stream",
     "text": [
      "(12079, 105) (1202, 105)\n",
      "CPU times: user 599 ms, sys: 76 ms, total: 675 ms\n",
      "Wall time: 675 ms\n"
     ]
    }
   ],
   "source": [
    "%%time\n",
    "\n",
    "def create_extra_features(data):\n",
    "    data['PolicyLengthDays'] = (pd.to_datetime(data['Policy End Date'], format = '%Y-%m-%d') - \n",
    "                         pd.to_datetime(data['Policy Start Date'], format = '%Y-%m-%d')) / np.timedelta64(1, 'D')\n",
    "    data.drop(columns = ['Policy End Date', 'First Transaction Date'], inplace = True)\n",
    "    data['NANs_cnt'] = data.isnull().sum(axis = 1)\n",
    "    \n",
    "    \n",
    "def create_col_with_min_freq(data, col, min_freq = 10):\n",
    "    data[col + '_fixed'] = data[col].astype(str)\n",
    "    data.loc[data[col + '_fixed'].value_counts()[data[col + '_fixed']].values < min_freq, col + '_fixed'] = \"RARE_VALUE\"\n",
    "    data.replace({'nan': np.nan}, inplace = True)\n",
    "\n",
    "def create_gr_feats(data):\n",
    "    for cat_col in ['Policy Start Date', 'Gender', 'Car_Category',\n",
    "                   'Subject_Car_Colour', 'Subject_Car_Make', 'LGA_Name', 'State','ProductName']:\n",
    "        create_col_with_min_freq(data, cat_col, 25)\n",
    "        for num_col in ['Age', 'No_Pol', 'PolicyLengthDays']:\n",
    "            for n, f in [('mean', np.mean), ('min', np.nanmin), ('max', np.nanmax)]:\n",
    "                data['FIXED_' + n + '_' + num_col + '_by_' + cat_col] = data.groupby(cat_col + '_fixed')[num_col].transform(f)\n",
    "    for col in ['Policy Start Date', 'Gender', 'Age', 'No_Pol', 'Car_Category',\n",
    "                   'Subject_Car_Colour', 'Subject_Car_Make', 'LGA_Name', 'State',\n",
    "                   'ProductName', 'PolicyLengthDays']:\n",
    "        data[col + '_cnt'] = data[col].map(data[col].value_counts(dropna = False))\n",
    "    \n",
    "        \n",
    "\n",
    "create_extra_features(train_data)\n",
    "create_extra_features(test_data)\n",
    "\n",
    "all_df = pd.concat([train_data, test_data]).reset_index(drop = True)\n",
    "create_gr_feats(all_df)\n",
    "train_data, test_data = all_df[:len(train_data)], all_df[len(train_data):]\n",
    "print(train_data.shape, test_data.shape)"
   ]
  },
  {
   "cell_type": "code",
   "execution_count": 9,
   "metadata": {},
   "outputs": [
    {
     "data": {
      "text/html": [
       "<div>\n",
       "<style scoped>\n",
       "    .dataframe tbody tr th:only-of-type {\n",
       "        vertical-align: middle;\n",
       "    }\n",
       "\n",
       "    .dataframe tbody tr th {\n",
       "        vertical-align: top;\n",
       "    }\n",
       "\n",
       "    .dataframe thead th {\n",
       "        text-align: right;\n",
       "    }\n",
       "</style>\n",
       "<table border=\"1\" class=\"dataframe\">\n",
       "  <thead>\n",
       "    <tr style=\"text-align: right;\">\n",
       "      <th></th>\n",
       "      <th>ID</th>\n",
       "      <th>Policy Start Date</th>\n",
       "      <th>Gender</th>\n",
       "      <th>Age</th>\n",
       "      <th>No_Pol</th>\n",
       "      <th>Car_Category</th>\n",
       "      <th>Subject_Car_Colour</th>\n",
       "      <th>Subject_Car_Make</th>\n",
       "      <th>LGA_Name</th>\n",
       "      <th>State</th>\n",
       "      <th>...</th>\n",
       "      <th>Gender_cnt</th>\n",
       "      <th>Age_cnt</th>\n",
       "      <th>No_Pol_cnt</th>\n",
       "      <th>Car_Category_cnt</th>\n",
       "      <th>Subject_Car_Colour_cnt</th>\n",
       "      <th>Subject_Car_Make_cnt</th>\n",
       "      <th>LGA_Name_cnt</th>\n",
       "      <th>State_cnt</th>\n",
       "      <th>ProductName_cnt</th>\n",
       "      <th>PolicyLengthDays_cnt</th>\n",
       "    </tr>\n",
       "  </thead>\n",
       "  <tbody>\n",
       "    <tr>\n",
       "      <th>0</th>\n",
       "      <td>ID_0040R73</td>\n",
       "      <td>2010-05-14</td>\n",
       "      <td>Male</td>\n",
       "      <td>30</td>\n",
       "      <td>1</td>\n",
       "      <td>Saloon</td>\n",
       "      <td>Black</td>\n",
       "      <td>TOYOTA</td>\n",
       "      <td>NaN</td>\n",
       "      <td>NaN</td>\n",
       "      <td>...</td>\n",
       "      <td>8356</td>\n",
       "      <td>351</td>\n",
       "      <td>10552</td>\n",
       "      <td>6633</td>\n",
       "      <td>2057</td>\n",
       "      <td>5466</td>\n",
       "      <td>7132</td>\n",
       "      <td>7144</td>\n",
       "      <td>7142</td>\n",
       "      <td>10494</td>\n",
       "    </tr>\n",
       "    <tr>\n",
       "      <th>1</th>\n",
       "      <td>ID_0046BNK</td>\n",
       "      <td>2010-11-29</td>\n",
       "      <td>Female</td>\n",
       "      <td>79</td>\n",
       "      <td>1</td>\n",
       "      <td>JEEP</td>\n",
       "      <td>Grey</td>\n",
       "      <td>TOYOTA</td>\n",
       "      <td>NaN</td>\n",
       "      <td>NaN</td>\n",
       "      <td>...</td>\n",
       "      <td>3679</td>\n",
       "      <td>9</td>\n",
       "      <td>10552</td>\n",
       "      <td>2223</td>\n",
       "      <td>565</td>\n",
       "      <td>5466</td>\n",
       "      <td>7132</td>\n",
       "      <td>7144</td>\n",
       "      <td>7142</td>\n",
       "      <td>10494</td>\n",
       "    </tr>\n",
       "    <tr>\n",
       "      <th>2</th>\n",
       "      <td>ID_005QMC3</td>\n",
       "      <td>2010-03-21</td>\n",
       "      <td>Male</td>\n",
       "      <td>43</td>\n",
       "      <td>1</td>\n",
       "      <td>Saloon</td>\n",
       "      <td>Red</td>\n",
       "      <td>TOYOTA</td>\n",
       "      <td>NaN</td>\n",
       "      <td>NaN</td>\n",
       "      <td>...</td>\n",
       "      <td>8356</td>\n",
       "      <td>342</td>\n",
       "      <td>10552</td>\n",
       "      <td>6633</td>\n",
       "      <td>274</td>\n",
       "      <td>5466</td>\n",
       "      <td>7132</td>\n",
       "      <td>7144</td>\n",
       "      <td>7142</td>\n",
       "      <td>10494</td>\n",
       "    </tr>\n",
       "    <tr>\n",
       "      <th>3</th>\n",
       "      <td>ID_0079OHW</td>\n",
       "      <td>2010-08-21</td>\n",
       "      <td>Male</td>\n",
       "      <td>2</td>\n",
       "      <td>1</td>\n",
       "      <td>NaN</td>\n",
       "      <td>NaN</td>\n",
       "      <td>NaN</td>\n",
       "      <td>NaN</td>\n",
       "      <td>NaN</td>\n",
       "      <td>...</td>\n",
       "      <td>8356</td>\n",
       "      <td>54</td>\n",
       "      <td>10552</td>\n",
       "      <td>4110</td>\n",
       "      <td>7659</td>\n",
       "      <td>2724</td>\n",
       "      <td>7132</td>\n",
       "      <td>7144</td>\n",
       "      <td>4154</td>\n",
       "      <td>10494</td>\n",
       "    </tr>\n",
       "    <tr>\n",
       "      <th>4</th>\n",
       "      <td>ID_00BRP63</td>\n",
       "      <td>2010-08-29</td>\n",
       "      <td>Entity</td>\n",
       "      <td>20</td>\n",
       "      <td>3</td>\n",
       "      <td>NaN</td>\n",
       "      <td>NaN</td>\n",
       "      <td>NaN</td>\n",
       "      <td>Lagos</td>\n",
       "      <td>Lagos</td>\n",
       "      <td>...</td>\n",
       "      <td>300</td>\n",
       "      <td>356</td>\n",
       "      <td>590</td>\n",
       "      <td>4110</td>\n",
       "      <td>7659</td>\n",
       "      <td>2724</td>\n",
       "      <td>180</td>\n",
       "      <td>3494</td>\n",
       "      <td>100</td>\n",
       "      <td>9</td>\n",
       "    </tr>\n",
       "    <tr>\n",
       "      <th>...</th>\n",
       "      <td>...</td>\n",
       "      <td>...</td>\n",
       "      <td>...</td>\n",
       "      <td>...</td>\n",
       "      <td>...</td>\n",
       "      <td>...</td>\n",
       "      <td>...</td>\n",
       "      <td>...</td>\n",
       "      <td>...</td>\n",
       "      <td>...</td>\n",
       "      <td>...</td>\n",
       "      <td>...</td>\n",
       "      <td>...</td>\n",
       "      <td>...</td>\n",
       "      <td>...</td>\n",
       "      <td>...</td>\n",
       "      <td>...</td>\n",
       "      <td>...</td>\n",
       "      <td>...</td>\n",
       "      <td>...</td>\n",
       "      <td>...</td>\n",
       "    </tr>\n",
       "    <tr>\n",
       "      <th>12074</th>\n",
       "      <td>ID_ZZA1SES</td>\n",
       "      <td>2010-05-25</td>\n",
       "      <td>Female</td>\n",
       "      <td>30</td>\n",
       "      <td>1</td>\n",
       "      <td>NaN</td>\n",
       "      <td>Black</td>\n",
       "      <td>Range Rover</td>\n",
       "      <td>Ibeju/Lekki</td>\n",
       "      <td>Ibeju-Lekki</td>\n",
       "      <td>...</td>\n",
       "      <td>3679</td>\n",
       "      <td>351</td>\n",
       "      <td>10552</td>\n",
       "      <td>4110</td>\n",
       "      <td>2057</td>\n",
       "      <td>121</td>\n",
       "      <td>129</td>\n",
       "      <td>129</td>\n",
       "      <td>7142</td>\n",
       "      <td>10494</td>\n",
       "    </tr>\n",
       "    <tr>\n",
       "      <th>12075</th>\n",
       "      <td>ID_ZZDAC3K</td>\n",
       "      <td>2010-10-03</td>\n",
       "      <td>Female</td>\n",
       "      <td>59</td>\n",
       "      <td>1</td>\n",
       "      <td>NaN</td>\n",
       "      <td>NaN</td>\n",
       "      <td>NaN</td>\n",
       "      <td>NaN</td>\n",
       "      <td>NaN</td>\n",
       "      <td>...</td>\n",
       "      <td>3679</td>\n",
       "      <td>69</td>\n",
       "      <td>10552</td>\n",
       "      <td>4110</td>\n",
       "      <td>7659</td>\n",
       "      <td>2724</td>\n",
       "      <td>7132</td>\n",
       "      <td>7144</td>\n",
       "      <td>7142</td>\n",
       "      <td>10494</td>\n",
       "    </tr>\n",
       "    <tr>\n",
       "      <th>12076</th>\n",
       "      <td>ID_ZZIU2XC</td>\n",
       "      <td>2010-10-10</td>\n",
       "      <td>Male</td>\n",
       "      <td>34</td>\n",
       "      <td>1</td>\n",
       "      <td>NaN</td>\n",
       "      <td>NaN</td>\n",
       "      <td>NaN</td>\n",
       "      <td>NaN</td>\n",
       "      <td>NaN</td>\n",
       "      <td>...</td>\n",
       "      <td>8356</td>\n",
       "      <td>444</td>\n",
       "      <td>10552</td>\n",
       "      <td>4110</td>\n",
       "      <td>7659</td>\n",
       "      <td>2724</td>\n",
       "      <td>7132</td>\n",
       "      <td>7144</td>\n",
       "      <td>4154</td>\n",
       "      <td>634</td>\n",
       "    </tr>\n",
       "    <tr>\n",
       "      <th>12077</th>\n",
       "      <td>ID_ZZRQ1NF</td>\n",
       "      <td>2010-02-27</td>\n",
       "      <td>NaN</td>\n",
       "      <td>120</td>\n",
       "      <td>2</td>\n",
       "      <td>NaN</td>\n",
       "      <td>White</td>\n",
       "      <td>TOYOTA</td>\n",
       "      <td>Victoria Island</td>\n",
       "      <td>Lagos</td>\n",
       "      <td>...</td>\n",
       "      <td>400</td>\n",
       "      <td>396</td>\n",
       "      <td>1864</td>\n",
       "      <td>4110</td>\n",
       "      <td>321</td>\n",
       "      <td>5466</td>\n",
       "      <td>1284</td>\n",
       "      <td>3494</td>\n",
       "      <td>509</td>\n",
       "      <td>10494</td>\n",
       "    </tr>\n",
       "    <tr>\n",
       "      <th>12078</th>\n",
       "      <td>ID_ZZWRIIE</td>\n",
       "      <td>2010-07-01</td>\n",
       "      <td>Female</td>\n",
       "      <td>46</td>\n",
       "      <td>2</td>\n",
       "      <td>JEEP</td>\n",
       "      <td>Black</td>\n",
       "      <td>Land Rover</td>\n",
       "      <td>Lagos Island</td>\n",
       "      <td>Lagos</td>\n",
       "      <td>...</td>\n",
       "      <td>3679</td>\n",
       "      <td>327</td>\n",
       "      <td>1864</td>\n",
       "      <td>2223</td>\n",
       "      <td>2057</td>\n",
       "      <td>66</td>\n",
       "      <td>243</td>\n",
       "      <td>3494</td>\n",
       "      <td>7142</td>\n",
       "      <td>10494</td>\n",
       "    </tr>\n",
       "  </tbody>\n",
       "</table>\n",
       "<p>12079 rows × 105 columns</p>\n",
       "</div>"
      ],
      "text/plain": [
       "               ID Policy Start Date  Gender  Age  No_Pol Car_Category  \\\n",
       "0      ID_0040R73        2010-05-14    Male   30       1       Saloon   \n",
       "1      ID_0046BNK        2010-11-29  Female   79       1         JEEP   \n",
       "2      ID_005QMC3        2010-03-21    Male   43       1       Saloon   \n",
       "3      ID_0079OHW        2010-08-21    Male    2       1          NaN   \n",
       "4      ID_00BRP63        2010-08-29  Entity   20       3          NaN   \n",
       "...           ...               ...     ...  ...     ...          ...   \n",
       "12074  ID_ZZA1SES        2010-05-25  Female   30       1          NaN   \n",
       "12075  ID_ZZDAC3K        2010-10-03  Female   59       1          NaN   \n",
       "12076  ID_ZZIU2XC        2010-10-10    Male   34       1          NaN   \n",
       "12077  ID_ZZRQ1NF        2010-02-27     NaN  120       2          NaN   \n",
       "12078  ID_ZZWRIIE        2010-07-01  Female   46       2         JEEP   \n",
       "\n",
       "      Subject_Car_Colour Subject_Car_Make         LGA_Name        State  ...  \\\n",
       "0                  Black           TOYOTA              NaN          NaN  ...   \n",
       "1                   Grey           TOYOTA              NaN          NaN  ...   \n",
       "2                    Red           TOYOTA              NaN          NaN  ...   \n",
       "3                    NaN              NaN              NaN          NaN  ...   \n",
       "4                    NaN              NaN            Lagos        Lagos  ...   \n",
       "...                  ...              ...              ...          ...  ...   \n",
       "12074              Black      Range Rover      Ibeju/Lekki  Ibeju-Lekki  ...   \n",
       "12075                NaN              NaN              NaN          NaN  ...   \n",
       "12076                NaN              NaN              NaN          NaN  ...   \n",
       "12077              White           TOYOTA  Victoria Island        Lagos  ...   \n",
       "12078              Black       Land Rover     Lagos Island        Lagos  ...   \n",
       "\n",
       "      Gender_cnt  Age_cnt  No_Pol_cnt  Car_Category_cnt  \\\n",
       "0           8356      351       10552              6633   \n",
       "1           3679        9       10552              2223   \n",
       "2           8356      342       10552              6633   \n",
       "3           8356       54       10552              4110   \n",
       "4            300      356         590              4110   \n",
       "...          ...      ...         ...               ...   \n",
       "12074       3679      351       10552              4110   \n",
       "12075       3679       69       10552              4110   \n",
       "12076       8356      444       10552              4110   \n",
       "12077        400      396        1864              4110   \n",
       "12078       3679      327        1864              2223   \n",
       "\n",
       "      Subject_Car_Colour_cnt  Subject_Car_Make_cnt  LGA_Name_cnt  State_cnt  \\\n",
       "0                       2057                  5466          7132       7144   \n",
       "1                        565                  5466          7132       7144   \n",
       "2                        274                  5466          7132       7144   \n",
       "3                       7659                  2724          7132       7144   \n",
       "4                       7659                  2724           180       3494   \n",
       "...                      ...                   ...           ...        ...   \n",
       "12074                   2057                   121           129        129   \n",
       "12075                   7659                  2724          7132       7144   \n",
       "12076                   7659                  2724          7132       7144   \n",
       "12077                    321                  5466          1284       3494   \n",
       "12078                   2057                    66           243       3494   \n",
       "\n",
       "       ProductName_cnt  PolicyLengthDays_cnt  \n",
       "0                 7142                 10494  \n",
       "1                 7142                 10494  \n",
       "2                 7142                 10494  \n",
       "3                 4154                 10494  \n",
       "4                  100                     9  \n",
       "...                ...                   ...  \n",
       "12074             7142                 10494  \n",
       "12075             7142                 10494  \n",
       "12076             4154                   634  \n",
       "12077              509                 10494  \n",
       "12078             7142                 10494  \n",
       "\n",
       "[12079 rows x 105 columns]"
      ]
     },
     "execution_count": 9,
     "metadata": {},
     "output_type": "execute_result"
    }
   ],
   "source": [
    "train_data"
   ]
  },
  {
   "cell_type": "code",
   "execution_count": 10,
   "metadata": {},
   "outputs": [
    {
     "data": {
      "text/plain": [
       "0.12045699147280405"
      ]
     },
     "execution_count": 10,
     "metadata": {},
     "output_type": "execute_result"
    }
   ],
   "source": [
    "train_data[TARGET_NAME].mean()"
   ]
  },
  {
   "cell_type": "markdown",
   "metadata": {},
   "source": [
    "# Step 0.6. Data splitting for train-test "
   ]
  },
  {
   "cell_type": "code",
   "execution_count": 11,
   "metadata": {},
   "outputs": [
    {
     "name": "stdout",
     "output_type": "stream",
     "text": [
      "Data splitted. Parts sizes: train_data = (9663, 105), test_data = (2416, 105)\n",
      "CPU times: user 16.1 ms, sys: 4.01 ms, total: 20.1 ms\n",
      "Wall time: 20 ms\n"
     ]
    }
   ],
   "source": [
    "%%time\n",
    "\n",
    "tr_data, te_data = train_test_split(train_data, \n",
    "                                         test_size=TEST_SIZE, \n",
    "                                         stratify=train_data[TARGET_NAME], \n",
    "                                         random_state=RANDOM_STATE)\n",
    "print('Data splitted. Parts sizes: train_data = {}, test_data = {}'\n",
    "              .format(tr_data.shape, te_data.shape))"
   ]
  },
  {
   "cell_type": "code",
   "execution_count": 12,
   "metadata": {},
   "outputs": [
    {
     "data": {
      "text/html": [
       "<div>\n",
       "<style scoped>\n",
       "    .dataframe tbody tr th:only-of-type {\n",
       "        vertical-align: middle;\n",
       "    }\n",
       "\n",
       "    .dataframe tbody tr th {\n",
       "        vertical-align: top;\n",
       "    }\n",
       "\n",
       "    .dataframe thead th {\n",
       "        text-align: right;\n",
       "    }\n",
       "</style>\n",
       "<table border=\"1\" class=\"dataframe\">\n",
       "  <thead>\n",
       "    <tr style=\"text-align: right;\">\n",
       "      <th></th>\n",
       "      <th>ID</th>\n",
       "      <th>Policy Start Date</th>\n",
       "      <th>Gender</th>\n",
       "      <th>Age</th>\n",
       "      <th>No_Pol</th>\n",
       "      <th>Car_Category</th>\n",
       "      <th>Subject_Car_Colour</th>\n",
       "      <th>Subject_Car_Make</th>\n",
       "      <th>LGA_Name</th>\n",
       "      <th>State</th>\n",
       "      <th>...</th>\n",
       "      <th>Gender_cnt</th>\n",
       "      <th>Age_cnt</th>\n",
       "      <th>No_Pol_cnt</th>\n",
       "      <th>Car_Category_cnt</th>\n",
       "      <th>Subject_Car_Colour_cnt</th>\n",
       "      <th>Subject_Car_Make_cnt</th>\n",
       "      <th>LGA_Name_cnt</th>\n",
       "      <th>State_cnt</th>\n",
       "      <th>ProductName_cnt</th>\n",
       "      <th>PolicyLengthDays_cnt</th>\n",
       "    </tr>\n",
       "  </thead>\n",
       "  <tbody>\n",
       "    <tr>\n",
       "      <th>2865</th>\n",
       "      <td>ID_8KLBXZ5</td>\n",
       "      <td>2010-07-05</td>\n",
       "      <td>Male</td>\n",
       "      <td>36</td>\n",
       "      <td>1</td>\n",
       "      <td>Saloon</td>\n",
       "      <td>Blue</td>\n",
       "      <td>TOYOTA</td>\n",
       "      <td>NaN</td>\n",
       "      <td>NaN</td>\n",
       "      <td>...</td>\n",
       "      <td>8356</td>\n",
       "      <td>537</td>\n",
       "      <td>10552</td>\n",
       "      <td>6633</td>\n",
       "      <td>398</td>\n",
       "      <td>5466</td>\n",
       "      <td>7132</td>\n",
       "      <td>7144</td>\n",
       "      <td>7142</td>\n",
       "      <td>10494</td>\n",
       "    </tr>\n",
       "    <tr>\n",
       "      <th>1728</th>\n",
       "      <td>ID_5AD420S</td>\n",
       "      <td>2010-08-07</td>\n",
       "      <td>NOT STATED</td>\n",
       "      <td>38</td>\n",
       "      <td>1</td>\n",
       "      <td>NaN</td>\n",
       "      <td>NaN</td>\n",
       "      <td>NaN</td>\n",
       "      <td>NaN</td>\n",
       "      <td>NaN</td>\n",
       "      <td>...</td>\n",
       "      <td>190</td>\n",
       "      <td>514</td>\n",
       "      <td>10552</td>\n",
       "      <td>4110</td>\n",
       "      <td>7659</td>\n",
       "      <td>2724</td>\n",
       "      <td>7132</td>\n",
       "      <td>7144</td>\n",
       "      <td>7142</td>\n",
       "      <td>10494</td>\n",
       "    </tr>\n",
       "    <tr>\n",
       "      <th>2798</th>\n",
       "      <td>ID_8COUUVJ</td>\n",
       "      <td>2010-03-06</td>\n",
       "      <td>Male</td>\n",
       "      <td>46</td>\n",
       "      <td>1</td>\n",
       "      <td>NaN</td>\n",
       "      <td>As Attached</td>\n",
       "      <td>Honda</td>\n",
       "      <td>Kaduna North</td>\n",
       "      <td>Kaduna-North</td>\n",
       "      <td>...</td>\n",
       "      <td>8356</td>\n",
       "      <td>327</td>\n",
       "      <td>10552</td>\n",
       "      <td>4110</td>\n",
       "      <td>555</td>\n",
       "      <td>1146</td>\n",
       "      <td>24</td>\n",
       "      <td>24</td>\n",
       "      <td>7142</td>\n",
       "      <td>634</td>\n",
       "    </tr>\n",
       "    <tr>\n",
       "      <th>2434</th>\n",
       "      <td>ID_7AR0OF5</td>\n",
       "      <td>2010-04-16</td>\n",
       "      <td>Male</td>\n",
       "      <td>59</td>\n",
       "      <td>2</td>\n",
       "      <td>Saloon</td>\n",
       "      <td>Black</td>\n",
       "      <td>Kia</td>\n",
       "      <td>Oyo</td>\n",
       "      <td>Oyo</td>\n",
       "      <td>...</td>\n",
       "      <td>8356</td>\n",
       "      <td>69</td>\n",
       "      <td>1864</td>\n",
       "      <td>6633</td>\n",
       "      <td>2057</td>\n",
       "      <td>375</td>\n",
       "      <td>9</td>\n",
       "      <td>28</td>\n",
       "      <td>605</td>\n",
       "      <td>10494</td>\n",
       "    </tr>\n",
       "    <tr>\n",
       "      <th>6080</th>\n",
       "      <td>ID_I7M2H6H</td>\n",
       "      <td>2010-10-31</td>\n",
       "      <td>Entity</td>\n",
       "      <td>20</td>\n",
       "      <td>3</td>\n",
       "      <td>Saloon</td>\n",
       "      <td>Black</td>\n",
       "      <td>Kia</td>\n",
       "      <td>Port-Harcourt</td>\n",
       "      <td>Port-Harcourt</td>\n",
       "      <td>...</td>\n",
       "      <td>300</td>\n",
       "      <td>356</td>\n",
       "      <td>590</td>\n",
       "      <td>6633</td>\n",
       "      <td>2057</td>\n",
       "      <td>375</td>\n",
       "      <td>44</td>\n",
       "      <td>44</td>\n",
       "      <td>7142</td>\n",
       "      <td>10494</td>\n",
       "    </tr>\n",
       "  </tbody>\n",
       "</table>\n",
       "<p>5 rows × 105 columns</p>\n",
       "</div>"
      ],
      "text/plain": [
       "              ID Policy Start Date      Gender  Age  No_Pol Car_Category  \\\n",
       "2865  ID_8KLBXZ5        2010-07-05        Male   36       1       Saloon   \n",
       "1728  ID_5AD420S        2010-08-07  NOT STATED   38       1          NaN   \n",
       "2798  ID_8COUUVJ        2010-03-06        Male   46       1          NaN   \n",
       "2434  ID_7AR0OF5        2010-04-16        Male   59       2       Saloon   \n",
       "6080  ID_I7M2H6H        2010-10-31      Entity   20       3       Saloon   \n",
       "\n",
       "     Subject_Car_Colour Subject_Car_Make       LGA_Name          State  ...  \\\n",
       "2865               Blue           TOYOTA            NaN            NaN  ...   \n",
       "1728                NaN              NaN            NaN            NaN  ...   \n",
       "2798        As Attached            Honda   Kaduna North   Kaduna-North  ...   \n",
       "2434              Black              Kia            Oyo            Oyo  ...   \n",
       "6080              Black              Kia  Port-Harcourt  Port-Harcourt  ...   \n",
       "\n",
       "     Gender_cnt  Age_cnt  No_Pol_cnt  Car_Category_cnt Subject_Car_Colour_cnt  \\\n",
       "2865       8356      537       10552              6633                    398   \n",
       "1728        190      514       10552              4110                   7659   \n",
       "2798       8356      327       10552              4110                    555   \n",
       "2434       8356       69        1864              6633                   2057   \n",
       "6080        300      356         590              6633                   2057   \n",
       "\n",
       "      Subject_Car_Make_cnt  LGA_Name_cnt  State_cnt  ProductName_cnt  \\\n",
       "2865                  5466          7132       7144             7142   \n",
       "1728                  2724          7132       7144             7142   \n",
       "2798                  1146            24         24             7142   \n",
       "2434                   375             9         28              605   \n",
       "6080                   375            44         44             7142   \n",
       "\n",
       "      PolicyLengthDays_cnt  \n",
       "2865                 10494  \n",
       "1728                 10494  \n",
       "2798                   634  \n",
       "2434                 10494  \n",
       "6080                 10494  \n",
       "\n",
       "[5 rows x 105 columns]"
      ]
     },
     "execution_count": 12,
     "metadata": {},
     "output_type": "execute_result"
    }
   ],
   "source": [
    "tr_data.head()"
   ]
  },
  {
   "cell_type": "code",
   "execution_count": 13,
   "metadata": {},
   "outputs": [
    {
     "data": {
      "text/plain": [
       "2010    13267\n",
       "2009        6\n",
       "2003        2\n",
       "2006        2\n",
       "2001        1\n",
       "2007        1\n",
       "2002        1\n",
       "2005        1\n",
       "Name: Policy Start Date, dtype: int64"
      ]
     },
     "execution_count": 13,
     "metadata": {},
     "output_type": "execute_result"
    }
   ],
   "source": [
    "all_df['Policy Start Date'].str.slice(stop = 4).value_counts()"
   ]
  },
  {
   "cell_type": "code",
   "execution_count": 14,
   "metadata": {},
   "outputs": [
    {
     "data": {
      "text/plain": [
       "01    1286\n",
       "07    1245\n",
       "04    1225\n",
       "03    1171\n",
       "10    1128\n",
       "02    1095\n",
       "11    1095\n",
       "12    1074\n",
       "08    1050\n",
       "09    1027\n",
       "05    1007\n",
       "06     878\n",
       "Name: Policy Start Date, dtype: int64"
      ]
     },
     "execution_count": 14,
     "metadata": {},
     "output_type": "execute_result"
    }
   ],
   "source": [
    "all_df['Policy Start Date'].str.slice(start = 5, stop = 7).value_counts()"
   ]
  },
  {
   "cell_type": "code",
   "execution_count": 15,
   "metadata": {},
   "outputs": [
    {
     "data": {
      "text/plain": [
       "28    521\n",
       "25    499\n",
       "27    486\n",
       "16    484\n",
       "30    471\n",
       "05    458\n",
       "26    457\n",
       "18    456\n",
       "12    446\n",
       "04    446\n",
       "20    446\n",
       "08    445\n",
       "24    437\n",
       "17    434\n",
       "06    432\n",
       "07    431\n",
       "01    430\n",
       "11    425\n",
       "23    425\n",
       "22    423\n",
       "29    418\n",
       "19    417\n",
       "21    415\n",
       "15    411\n",
       "09    409\n",
       "13    406\n",
       "02    398\n",
       "14    384\n",
       "10    357\n",
       "03    351\n",
       "31    263\n",
       "Name: Policy Start Date, dtype: int64"
      ]
     },
     "execution_count": 15,
     "metadata": {},
     "output_type": "execute_result"
    }
   ],
   "source": [
    "all_df['Policy Start Date'].str.slice(start = 8).value_counts()"
   ]
  },
  {
   "cell_type": "code",
   "execution_count": 16,
   "metadata": {},
   "outputs": [
    {
     "data": {
      "text/plain": [
       "Car Classic         7142\n",
       "CarSafe             4154\n",
       "Customized Motor     605\n",
       "Car Plus             523\n",
       "CVTP                 509\n",
       "CarFlex              194\n",
       "Muuve                100\n",
       "Motor Cycle           49\n",
       "Car Vintage            5\n",
       "Name: ProductName, dtype: int64"
      ]
     },
     "execution_count": 16,
     "metadata": {},
     "output_type": "execute_result"
    }
   ],
   "source": [
    "all_df['ProductName'].value_counts(dropna = False)"
   ]
  },
  {
   "cell_type": "markdown",
   "metadata": {},
   "source": [
    "# ========= AutoML preset usage =========\n",
    "\n",
    "\n",
    "## Step 1. Create Task"
   ]
  },
  {
   "cell_type": "code",
   "execution_count": 17,
   "metadata": {},
   "outputs": [
    {
     "name": "stdout",
     "output_type": "stream",
     "text": [
      "CPU times: user 164 µs, sys: 4.19 ms, total: 4.35 ms\n",
      "Wall time: 4 ms\n"
     ]
    }
   ],
   "source": [
    "%%time\n",
    "\n",
    "def f1_metric(y_true, y_pred, **kwargs):\n",
    "    return f1_score(y_true, (y_pred > 0.12).astype(int), **kwargs)\n",
    "\n",
    "task = Task('binary', metric = f1_metric)"
   ]
  },
  {
   "cell_type": "markdown",
   "metadata": {},
   "source": [
    "## Step 2. Setup columns roles"
   ]
  },
  {
   "cell_type": "markdown",
   "metadata": {},
   "source": [
    "Roles setup here set target column and base date, which is used to calculate date differences:"
   ]
  },
  {
   "cell_type": "code",
   "execution_count": 18,
   "metadata": {},
   "outputs": [
    {
     "name": "stdout",
     "output_type": "stream",
     "text": [
      "CPU times: user 82 µs, sys: 75 µs, total: 157 µs\n",
      "Wall time: 165 µs\n"
     ]
    }
   ],
   "source": [
    "%%time\n",
    "\n",
    "roles = {'target': TARGET_NAME,\n",
    "         DatetimeRole(seasonality=('m', 'd', 'wd'), base_feats = True): 'Policy Start Date',\n",
    "         'drop': ['ID']\n",
    "         }"
   ]
  },
  {
   "cell_type": "markdown",
   "metadata": {},
   "source": [
    "## Step 3. Create AutoML from preset"
   ]
  },
  {
   "cell_type": "markdown",
   "metadata": {},
   "source": [
    "To create AutoML model here we use `TabularAutoML` preset, which looks like:\n",
    "\n",
    "![TabularAutoML preset pipeline](imgs/tutorial_2_pipeline.png)\n",
    "\n",
    "All params we set above can be send inside preset to change its configuration:"
   ]
  },
  {
   "cell_type": "code",
   "execution_count": 19,
   "metadata": {
    "scrolled": true
   },
   "outputs": [
    {
     "name": "stdout",
     "output_type": "stream",
     "text": [
      "oof_pred:\n",
      "array([[0.37236178],\n",
      "       [0.01996154],\n",
      "       [0.02797221],\n",
      "       ...,\n",
      "       [0.00885841],\n",
      "       [0.01645009],\n",
      "       [0.1934849 ]], dtype=float32)\n",
      "Shape = (9663, 1)\n",
      "CPU times: user 3h 18min 8s, sys: 6min 41s, total: 3h 24min 49s\n",
      "Wall time: 11min 50s\n"
     ]
    }
   ],
   "source": [
    "%%time \n",
    "\n",
    "automl = TabularAutoML(task = task, \n",
    "                       timeout = TIMEOUT,\n",
    "                       cpu_limit = N_THREADS,\n",
    "                       reader_params = {'n_jobs': N_THREADS, 'cv': N_FOLDS, 'random_state': RANDOM_STATE},\n",
    "                       config_path='./selected_config.yml',\n",
    "                       verbose = 0\n",
    "                      )\n",
    "oof_pred = automl.fit_predict(tr_data, roles = roles)\n",
    "print('oof_pred:\\n{}\\nShape = {}'.format(oof_pred, oof_pred.shape))"
   ]
  },
  {
   "cell_type": "code",
   "execution_count": 20,
   "metadata": {},
   "outputs": [
    {
     "name": "stdout",
     "output_type": "stream",
     "text": [
      "CPU times: user 140 ms, sys: 4.01 ms, total: 144 ms\n",
      "Wall time: 143 ms\n"
     ]
    },
    {
     "data": {
      "text/plain": [
       "<AxesSubplot:xlabel='Feature'>"
      ]
     },
     "execution_count": 20,
     "metadata": {},
     "output_type": "execute_result"
    },
    {
     "data": {
      "image/png": "[encoded data removed]",
      "text/plain": [
       "<Figure size 1440x720 with 1 Axes>"
      ]
     },
     "metadata": {
      "needs_background": "light"
     },
     "output_type": "display_data"
    }
   ],
   "source": [
    "%%time\n",
    "\n",
    "# Fast feature importances calculation\n",
    "fast_fi = automl.get_feature_scores('fast')\n",
    "fast_fi.set_index('Feature')['Importance'].plot.bar(figsize = (20, 10), grid = True)"
   ]
  },
  {
   "cell_type": "code",
   "execution_count": 21,
   "metadata": {},
   "outputs": [
    {
     "name": "stdout",
     "output_type": "stream",
     "text": [
      "0.0 0.21501801052923247\n",
      "0.01 0.24948831196811375\n",
      "0.02 0.3138006571741511\n",
      "0.03 0.3379526151095217\n",
      "0.04 0.35434956105347165\n",
      "0.05 0.36943544260617434\n",
      "0.06 0.38013196480938416\n",
      "0.07 0.3926404384419652\n",
      "0.08 0.40524235489910554\n",
      "0.09 0.41934046345811055\n",
      "0.1 0.42735849056603775\n",
      "0.11 0.43244588206021395\n",
      "0.12 0.4411764705882352\n",
      "0.13 0.45257903494176377\n",
      "0.15 0.46153846153846156\n",
      "0.16 0.4655338249438923\n",
      "0.17 0.4708249496981891\n",
      "==========\n",
      "0.17 0.4708249496981891\n"
     ]
    }
   ],
   "source": [
    "def f1_m(y_true, y_pred, bound = 0.5):\n",
    "    return f1_score(y_true, (y_pred > bound).astype(int))\n",
    "\n",
    "best_score = -1\n",
    "best_w = None\n",
    "for w in np.arange(0, 1.01, 0.01):\n",
    "    cur_score = f1_m(tr_data[TARGET_NAME].values, oof_pred.data[:, 0], w)\n",
    "    if cur_score > best_score:\n",
    "        best_score = cur_score\n",
    "        best_w = w\n",
    "        print(best_w, best_score)\n",
    "        \n",
    "print('='*10)\n",
    "print(best_w, best_score)"
   ]
  },
  {
   "cell_type": "markdown",
   "metadata": {},
   "source": [
    "## Step 4. Predict to test data and check scores"
   ]
  },
  {
   "cell_type": "code",
   "execution_count": 22,
   "metadata": {},
   "outputs": [
    {
     "name": "stdout",
     "output_type": "stream",
     "text": [
      "Prediction for test data:\n",
      "array([[0.6560721 ],\n",
      "       [0.00842952],\n",
      "       [0.03108966],\n",
      "       ...,\n",
      "       [0.08877208],\n",
      "       [0.03497621],\n",
      "       [0.14498393]], dtype=float32)\n",
      "Shape = (2416, 1)\n",
      "Check scores...\n",
      "OOF score: 0.4708249496981891\n",
      "TEST score: 0.4109232769830949\n",
      "CPU times: user 2.78 s, sys: 301 ms, total: 3.08 s\n",
      "Wall time: 358 ms\n"
     ]
    }
   ],
   "source": [
    "%%time\n",
    "\n",
    "test_pred = automl.predict(te_data)\n",
    "print('Prediction for test data:\\n{}\\nShape = {}'\n",
    "              .format(test_pred, test_pred.shape))\n",
    "\n",
    "print('Check scores...')\n",
    "print('OOF score: {}'.format(f1_m(tr_data[TARGET_NAME].values, oof_pred.data[:, 0], best_w)))\n",
    "print('TEST score: {}'.format(f1_m(te_data[TARGET_NAME].values, test_pred.data[:, 0], best_w)))"
   ]
  },
  {
   "cell_type": "markdown",
   "metadata": {},
   "source": [
    "## Step 5. Create AutoML with time utilization "
   ]
  },
  {
   "cell_type": "markdown",
   "metadata": {},
   "source": [
    "Below we are going to create specific AutoML preset for TIMEOUT utilization (try to spend it as much as possible):"
   ]
  },
  {
   "cell_type": "code",
   "execution_count": 23,
   "metadata": {
    "scrolled": true
   },
   "outputs": [
    {
     "name": "stdout",
     "output_type": "stream",
     "text": [
      "oof_pred:\n",
      "array([[0.26326528],\n",
      "       [0.01951091],\n",
      "       [0.04869098],\n",
      "       ...,\n",
      "       [0.00659646],\n",
      "       [0.01106302],\n",
      "       [0.24481077]], dtype=float32)\n",
      "Shape = (9663, 1)\n",
      "CPU times: user 14h 19min 34s, sys: 33min 9s, total: 14h 52min 44s\n",
      "Wall time: 53min 54s\n"
     ]
    }
   ],
   "source": [
    "%%time \n",
    "\n",
    "automl = TabularUtilizedAutoML(task = task, \n",
    "                       timeout = TIMEOUT,\n",
    "                       cpu_limit = N_THREADS,\n",
    "                       reader_params = {'n_jobs': N_THREADS, 'cv': N_FOLDS, 'random_state': RANDOM_STATE},\n",
    "                       configs_list = ['./selected_config.yml'],\n",
    "                       verbose = 0\n",
    "                      )\n",
    "oof_pred = automl.fit_predict(tr_data, roles = roles)\n",
    "print('oof_pred:\\n{}\\nShape = {}'.format(oof_pred, oof_pred.shape))"
   ]
  },
  {
   "cell_type": "code",
   "execution_count": 24,
   "metadata": {},
   "outputs": [
    {
     "name": "stdout",
     "output_type": "stream",
     "text": [
      "CPU times: user 147 ms, sys: 0 ns, total: 147 ms\n",
      "Wall time: 146 ms\n"
     ]
    },
    {
     "data": {
      "text/plain": [
       "<AxesSubplot:xlabel='Feature'>"
      ]
     },
     "execution_count": 24,
     "metadata": {},
     "output_type": "execute_result"
    },
    {
     "data": {
      "image/png": "[encoded data removed]",
      "text/plain": [
       "<Figure size 1440x720 with 1 Axes>"
      ]
     },
     "metadata": {
      "needs_background": "light"
     },
     "output_type": "display_data"
    }
   ],
   "source": [
    "%%time\n",
    "\n",
    "# Fast feature importances calculation\n",
    "fast_fi = automl.get_feature_scores('fast', silent = False)\n",
    "fast_fi.set_index('Feature')['Importance'].plot.bar(figsize = (20, 10), grid = True)"
   ]
  },
  {
   "cell_type": "code",
   "execution_count": 25,
   "metadata": {},
   "outputs": [
    {
     "name": "stdout",
     "output_type": "stream",
     "text": [
      "0.0 0.21501801052923247\n",
      "0.01 0.2793053545586107\n",
      "0.02 0.3119640669661086\n",
      "0.03 0.332217207744941\n",
      "0.04 0.3461302211302211\n",
      "0.05 0.3618985906366435\n",
      "0.06 0.3766278272789582\n",
      "0.07 0.3884267631103074\n",
      "0.08 0.40315748941085866\n",
      "0.09 0.4117527035298918\n",
      "0.1 0.4275141488898564\n",
      "0.11 0.43838150289017336\n",
      "0.12 0.4470012239902081\n",
      "0.13 0.4567295272539395\n",
      "0.14 0.4631809471667124\n",
      "0.15 0.4724227548368467\n",
      "0.16 0.48085106382978726\n",
      "0.18 0.4862876254180602\n",
      "0.19 0.4890434782608696\n",
      "0.2 0.49691693870148723\n",
      "==========\n",
      "0.2 0.49691693870148723\n"
     ]
    }
   ],
   "source": [
    "best_score = -1\n",
    "best_w = None\n",
    "for w in np.arange(0, 1.01, 0.01):\n",
    "    cur_score = f1_m(tr_data[TARGET_NAME].values, oof_pred.data[:, 0], w)\n",
    "    if cur_score > best_score:\n",
    "        best_score = cur_score\n",
    "        best_w = w\n",
    "        print(best_w, best_score)\n",
    "        \n",
    "print('='*10)\n",
    "print(best_w, best_score)"
   ]
  },
  {
   "cell_type": "markdown",
   "metadata": {},
   "source": [
    "## Step 6. Predict to test data and check scores for utilized automl"
   ]
  },
  {
   "cell_type": "code",
   "execution_count": 26,
   "metadata": {},
   "outputs": [
    {
     "name": "stdout",
     "output_type": "stream",
     "text": [
      "Prediction for test data:\n",
      "array([[0.6922892 ],\n",
      "       [0.00676856],\n",
      "       [0.01916714],\n",
      "       ...,\n",
      "       [0.09803031],\n",
      "       [0.03827016],\n",
      "       [0.16256902]], dtype=float32)\n",
      "Shape = (2416, 1)\n",
      "Check scores...\n",
      "OOF score: 0.49691693870148723\n",
      "TEST score: 0.408695652173913\n",
      "CPU times: user 8.05 s, sys: 788 ms, total: 8.84 s\n",
      "Wall time: 1.3 s\n"
     ]
    }
   ],
   "source": [
    "%%time\n",
    "\n",
    "test_pred = automl.predict(te_data)\n",
    "print('Prediction for test data:\\n{}\\nShape = {}'\n",
    "              .format(test_pred, test_pred.shape))\n",
    "\n",
    "print('Check scores...')\n",
    "print('OOF score: {}'.format(f1_m(tr_data[TARGET_NAME].values, oof_pred.data[:, 0], best_w)))\n",
    "print('TEST score: {}'.format(f1_m(te_data[TARGET_NAME].values, test_pred.data[:, 0], best_w)))"
   ]
  },
  {
   "cell_type": "markdown",
   "metadata": {},
   "source": [
    "## Step 7. Train on full dataset"
   ]
  },
  {
   "cell_type": "code",
   "execution_count": 27,
   "metadata": {
    "scrolled": true
   },
   "outputs": [
    {
     "name": "stdout",
     "output_type": "stream",
     "text": [
      "oof_pred:\n",
      "array([[0.12401809],\n",
      "       [0.04979165],\n",
      "       [0.2615149 ],\n",
      "       ...,\n",
      "       [0.00229428],\n",
      "       [0.24566281],\n",
      "       [0.03772594]], dtype=float32)\n",
      "Shape = (12079, 1)\n",
      "CPU times: user 14h 24min 1s, sys: 32min 42s, total: 14h 56min 43s\n",
      "Wall time: 54min 48s\n"
     ]
    }
   ],
   "source": [
    "%%time \n",
    "\n",
    "automl = TabularUtilizedAutoML(task = task, \n",
    "                       timeout = TIMEOUT,\n",
    "                       cpu_limit = N_THREADS,\n",
    "                       reader_params = {'n_jobs': N_THREADS, 'cv': N_FOLDS, 'random_state': RANDOM_STATE},\n",
    "                       configs_list = ['./selected_config.yml'],\n",
    "                       verbose = 0\n",
    "                      )\n",
    "oof_pred = automl.fit_predict(train_data, roles = roles)\n",
    "print('oof_pred:\\n{}\\nShape = {}'.format(oof_pred, oof_pred.shape))"
   ]
  },
  {
   "cell_type": "code",
   "execution_count": 28,
   "metadata": {},
   "outputs": [
    {
     "name": "stdout",
     "output_type": "stream",
     "text": [
      "0.0 0.2150140387173046\n",
      "0.01 0.2996464961530464\n",
      "0.02 0.3304889298892989\n",
      "0.03 0.3466796875\n",
      "0.04 0.3621823810138011\n",
      "0.05 0.38075601374570445\n",
      "0.06 0.39696217321454647\n",
      "0.07 0.4143190661478599\n",
      "0.08 0.42534979423868313\n",
      "0.09 0.4391182645206439\n",
      "0.1 0.4516485540615214\n",
      "0.11 0.4644034917555772\n",
      "0.12 0.4733292458614347\n",
      "0.13 0.4805501826778424\n",
      "0.14 0.49110961062345254\n",
      "0.15 0.49727939436952917\n",
      "0.16 0.5065675340768276\n",
      "0.17 0.5122265122265123\n",
      "0.18 0.5182403433476396\n",
      "0.19 0.5191560244308717\n",
      "==========\n",
      "0.19 0.5191560244308717\n"
     ]
    }
   ],
   "source": [
    "best_score = -1\n",
    "best_w = None\n",
    "for w in np.arange(0, 1.01, 0.01):\n",
    "    cur_score = f1_m(train_data[TARGET_NAME].values, oof_pred.data[:, 0], w)\n",
    "    if cur_score > best_score:\n",
    "        best_score = cur_score\n",
    "        best_w = w\n",
    "        print(best_w, best_score)\n",
    "        \n",
    "print('='*10)\n",
    "print(best_w, best_score)"
   ]
  },
  {
   "cell_type": "code",
   "execution_count": 29,
   "metadata": {},
   "outputs": [
    {
     "name": "stdout",
     "output_type": "stream",
     "text": [
      "Prediction for test data:\n",
      "array([[0.05511523],\n",
      "       [0.05628668],\n",
      "       [0.03076381],\n",
      "       ...,\n",
      "       [0.16402017],\n",
      "       [0.04646881],\n",
      "       [0.13595067]], dtype=float32)\n",
      "Shape = (1202, 1)\n",
      "Check scores...\n",
      "OOF score: 0.5191560244308717\n",
      "CPU times: user 5.18 s, sys: 125 ms, total: 5.31 s\n",
      "Wall time: 1.07 s\n"
     ]
    }
   ],
   "source": [
    "%%time\n",
    "\n",
    "test_pred = automl.predict(test_data)\n",
    "print('Prediction for test data:\\n{}\\nShape = {}'\n",
    "              .format(test_pred, test_pred.shape))\n",
    "\n",
    "print('Check scores...')\n",
    "print('OOF score: {}'.format(f1_m(train_data[TARGET_NAME].values, oof_pred.data[:, 0], best_w)))"
   ]
  },
  {
   "cell_type": "markdown",
   "metadata": {},
   "source": [
    "## Step 8. Create submission file "
   ]
  },
  {
   "cell_type": "code",
   "execution_count": 30,
   "metadata": {},
   "outputs": [
    {
     "data": {
      "text/html": [
       "<div>\n",
       "<style scoped>\n",
       "    .dataframe tbody tr th:only-of-type {\n",
       "        vertical-align: middle;\n",
       "    }\n",
       "\n",
       "    .dataframe tbody tr th {\n",
       "        vertical-align: top;\n",
       "    }\n",
       "\n",
       "    .dataframe thead th {\n",
       "        text-align: right;\n",
       "    }\n",
       "</style>\n",
       "<table border=\"1\" class=\"dataframe\">\n",
       "  <thead>\n",
       "    <tr style=\"text-align: right;\">\n",
       "      <th></th>\n",
       "      <th>ID</th>\n",
       "      <th>target</th>\n",
       "    </tr>\n",
       "  </thead>\n",
       "  <tbody>\n",
       "    <tr>\n",
       "      <th>12079</th>\n",
       "      <td>ID_01QM0NU</td>\n",
       "      <td>0</td>\n",
       "    </tr>\n",
       "    <tr>\n",
       "      <th>12080</th>\n",
       "      <td>ID_024NJLZ</td>\n",
       "      <td>0</td>\n",
       "    </tr>\n",
       "    <tr>\n",
       "      <th>12081</th>\n",
       "      <td>ID_02NOVWQ</td>\n",
       "      <td>0</td>\n",
       "    </tr>\n",
       "    <tr>\n",
       "      <th>12082</th>\n",
       "      <td>ID_02VSP68</td>\n",
       "      <td>0</td>\n",
       "    </tr>\n",
       "    <tr>\n",
       "      <th>12083</th>\n",
       "      <td>ID_02YB37K</td>\n",
       "      <td>0</td>\n",
       "    </tr>\n",
       "    <tr>\n",
       "      <th>...</th>\n",
       "      <td>...</td>\n",
       "      <td>...</td>\n",
       "    </tr>\n",
       "    <tr>\n",
       "      <th>13276</th>\n",
       "      <td>ID_ZTTHC5X</td>\n",
       "      <td>0</td>\n",
       "    </tr>\n",
       "    <tr>\n",
       "      <th>13277</th>\n",
       "      <td>ID_ZUJAFUP</td>\n",
       "      <td>0</td>\n",
       "    </tr>\n",
       "    <tr>\n",
       "      <th>13278</th>\n",
       "      <td>ID_ZWHCTUM</td>\n",
       "      <td>0</td>\n",
       "    </tr>\n",
       "    <tr>\n",
       "      <th>13279</th>\n",
       "      <td>ID_ZWQRL8L</td>\n",
       "      <td>0</td>\n",
       "    </tr>\n",
       "    <tr>\n",
       "      <th>13280</th>\n",
       "      <td>ID_ZWZ92GU</td>\n",
       "      <td>0</td>\n",
       "    </tr>\n",
       "  </tbody>\n",
       "</table>\n",
       "<p>1202 rows × 2 columns</p>\n",
       "</div>"
      ],
      "text/plain": [
       "               ID  target\n",
       "12079  ID_01QM0NU       0\n",
       "12080  ID_024NJLZ       0\n",
       "12081  ID_02NOVWQ       0\n",
       "12082  ID_02VSP68       0\n",
       "12083  ID_02YB37K       0\n",
       "...           ...     ...\n",
       "13276  ID_ZTTHC5X       0\n",
       "13277  ID_ZUJAFUP       0\n",
       "13278  ID_ZWHCTUM       0\n",
       "13279  ID_ZWQRL8L       0\n",
       "13280  ID_ZWZ92GU       0\n",
       "\n",
       "[1202 rows x 2 columns]"
      ]
     },
     "execution_count": 30,
     "metadata": {},
     "output_type": "execute_result"
    }
   ],
   "source": [
    "submission = test_data[['ID']]\n",
    "submission[TARGET_NAME] = (test_pred.data[:, 0] > best_w).astype(int)\n",
    "submission"
   ]
  },
  {
   "cell_type": "code",
   "execution_count": 31,
   "metadata": {},
   "outputs": [],
   "source": [
    "submission.to_csv('lightautoml_f1_012_multirun.csv', index = False)"
   ]
  },
  {
   "cell_type": "code",
   "execution_count": null,
   "metadata": {},
   "outputs": [],
   "source": []
  }
 ],
 "metadata": {
  "kernelspec": {
   "display_name": "Python 3",
   "language": "python",
   "name": "python3"
  },
  "language_info": {
   "codemirror_mode": {
    "name": "ipython",
    "version": 3
   },
   "file_extension": ".py",
   "mimetype": "text/x-python",
   "name": "python",
   "nbconvert_exporter": "python",
   "pygments_lexer": "ipython3",
   "version": "3.6.9"
  }
 },
 "nbformat": 4,
 "nbformat_minor": 4
}
